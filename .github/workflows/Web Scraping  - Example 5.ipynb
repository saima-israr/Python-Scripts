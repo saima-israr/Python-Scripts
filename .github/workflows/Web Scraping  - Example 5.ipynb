{
 "cells": [
  {
   "cell_type": "code",
   "execution_count": null,
   "metadata": {
    "scrolled": true
   },
   "outputs": [],
   "source": [
    "from bs4 import BeautifulSoup\n",
    "import requests\n",
    "import pandas as pd\n",
    "\n",
    "api_list = {}\n",
    "api_count = 0\n",
    "\n",
    "while True:\n",
    "    url = \"https://www.programmableweb.com/category/all/apis\"\n",
    "    response = requests.get(url)\n",
    "    data = response.text\n",
    "    soup = BeautifulSoup(data, 'html.parser')\n",
    "    api_data = soup.find_all('div', {'class':'views-content'})\n",
    "    for api in api_data:\n",
    "        api_name = api.find('td', {'class':'views-field views-field-pw-version-title'})\n",
    "        api_url = api.find('td', {'class':'views-field views-field-pw-version-title'})\n",
    "        api_category = api.find('td', {'class':'views-field views-field-field-article-primary-category'})\n",
    "        api_description = api.find('td', {'class':'views-field views-field-search-api-excerpt views-field-field-api-description hidden-xs visible-md visible-sm col-md-8'})\n",
    "        api_count+=1\n",
    "        api_list[api_count] = [api_name.text, api_url.find('a').get('href'), api_category.text, api_description.text]\n",
    "    nextpageurl_tag = soup.find('a', {'title':'Go to next page'})\n",
    "    if nextpageurl_tag.get('href'):\n",
    "        url = 'https://www.programmableweb.com' + nextpageurl_tag.get('href')\n",
    "    else:\n",
    "        break\n",
    "\n",
    "print('Total APIs:',api_count)\n",
    "api_list_df = pd.DataFrame.from_dict(api_list, orient = 'index', columns = ['API Name', 'API URL', 'API Category', 'API Description'])\n",
    "api_list_df.head(10)\n",
    "api_list_df.to_csv('api_list.csv')"
   ]
  },
  {
   "cell_type": "code",
   "execution_count": null,
   "metadata": {},
   "outputs": [],
   "source": [
    "\n"
   ]
  },
  {
   "cell_type": "code",
   "execution_count": null,
   "metadata": {},
   "outputs": [],
   "source": []
  }
 ],
 "metadata": {
  "kernelspec": {
   "display_name": "Python 3",
   "language": "python",
   "name": "python3"
  },
  "language_info": {
   "codemirror_mode": {
    "name": "ipython",
    "version": 3
   },
   "file_extension": ".py",
   "mimetype": "text/x-python",
   "name": "python",
   "nbconvert_exporter": "python",
   "pygments_lexer": "ipython3",
   "version": "3.8.3"
  }
 },
 "nbformat": 4,
 "nbformat_minor": 4
}
