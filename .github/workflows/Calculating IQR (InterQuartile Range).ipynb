{
 "cells": [
  {
   "cell_type": "code",
   "execution_count": 1,
   "metadata": {},
   "outputs": [
    {
     "name": "stdout",
     "output_type": "stream",
     "text": [
      "Current Data:\n",
      "  Name  Quantity  Amount\n",
      "0  AAA        10     100\n",
      "1  BBB        12     120\n",
      "2  CCC        50     500\n",
      "3  DDD        10     100\n",
      "4  EEE        80     800\n",
      "5  FFF        15     150\n",
      "6  GGG        11     110\n",
      "7  HHH        20     200\n",
      "8  III        12     120\n",
      "9  JJJ        15     150\n",
      "------------------------------------------\n",
      "First Quarter: 11.25\n",
      "Third Quartile: 18.75\n",
      "IQR is: 7.5\n",
      "------------------------------------------\n",
      "Lower Bound is: 0.0\n",
      "Upper Bound is: 30.0\n",
      "Outlier is:\n",
      "  Name  Quantity  Amount\n",
      "2  CCC        50     500\n",
      "4  EEE        80     800\n",
      "------------------------------------------\n",
      "Scatter plot after outlier removal is:\n",
      "   Name  Quantity  Amount\n",
      "0  AAA        10     100\n",
      "1  BBB        12     120\n",
      "3  DDD        10     100\n",
      "5  FFF        15     150\n",
      "6  GGG        11     110\n",
      "7  HHH        20     200\n",
      "8  III        12     120\n",
      "9  JJJ        15     150\n"
     ]
    }
   ],
   "source": [
    "#References:\n",
    "#https://medium.com/@prashant.nair2050/hands-on-outlier-detection-and-treatment-in-python-using-1-5-iqr-rule-f9ff1961a414 \n",
    "#https://github.com/aituts/mediumArticles/blob/master/OutlierDetectionAndTreatmentExample.ipynb  \n",
    "#https://www.geeksforgeeks.org/interquartile-range-and-quartile-deviation-using-numpy-and-scipy/ \n",
    "\n",
    "\n",
    "import numpy as np\n",
    "import pandas as pd\n",
    "import matplotlib.pyplot as plt\n",
    "%matplotlib inline\n",
    "\n",
    "data = [['AAA',10,100],['BBB',12,120],['CCC',50,500],['DDD',10,100],['EEE',80,800],['FFF',15,150], ['GGG',11,110],['HHH',20,200],['III',12,120],['JJJ',15,150]]\n",
    "df = pd.DataFrame(data,columns=['Name','Quantity','Amount'])\n",
    "print(\"Current Data:\\n{}\".format(df))\n",
    "\n",
    "def outlier_treatment(datacolumn):\n",
    "    x=sorted(datacolumn)\n",
    "    Q1,Q3 = np.percentile(x , [25,75])\n",
    "    IQR = Q3 - Q1\n",
    "    print(\"------------------------------------------\")\n",
    "    print(\"First Quarter: {}\".format(Q1))\n",
    "    print(\"Third Quartile: {}\".format(Q3))\n",
    "    print(\"IQR is: {}\".format(IQR))\n",
    "    lower_range = Q1 - (1.5 * IQR)\n",
    "    upper_range = Q3 + (1.5 * IQR)\n",
    "    return lower_range,upper_range\n",
    "\n",
    "l,u = outlier_treatment(df.Quantity)\n",
    "o = df[ (df.Quantity > u) | (df.Quantity < l) ]\n",
    "print(\"------------------------------------------\")\n",
    "print(\"Lower Bound is: {}\".format(l))\n",
    "print(\"Upper Bound is: {}\".format(u))\n",
    "print(\"Outlier is:\\n{}\".format(o))\n",
    "print(\"------------------------------------------\")\n",
    "df.drop(df[ (df.Quantity > u) | (df.Quantity < l) ].index , inplace=True)\n",
    "print(\"Scatter plot after outlier removal is:\\n {}\".format(df))"
   ]
  },
  {
   "cell_type": "code",
   "execution_count": null,
   "metadata": {},
   "outputs": [],
   "source": []
  }
 ],
 "metadata": {
  "kernelspec": {
   "display_name": "Python 3",
   "language": "python",
   "name": "python3"
  },
  "language_info": {
   "codemirror_mode": {
    "name": "ipython",
    "version": 3
   },
   "file_extension": ".py",
   "mimetype": "text/x-python",
   "name": "python",
   "nbconvert_exporter": "python",
   "pygments_lexer": "ipython3",
   "version": "3.8.3"
  }
 },
 "nbformat": 4,
 "nbformat_minor": 4
}
