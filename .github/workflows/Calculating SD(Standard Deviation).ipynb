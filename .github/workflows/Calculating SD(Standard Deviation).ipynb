{
 "cells": [
  {
   "cell_type": "code",
   "execution_count": 1,
   "metadata": {},
   "outputs": [
    {
     "name": "stdout",
     "output_type": "stream",
     "text": [
      "Current Data:\n",
      "  Name  Quantity  Amount\n",
      "0  AAA        10     100\n",
      "1  BBB        12     120\n",
      "2  CCC        50     500\n",
      "3  DDD        10     100\n",
      "4  EEE        80     800\n",
      "5  FFF        15     150\n",
      "6  GGG        11     110\n",
      "7  HHH        20     200\n",
      "8  III        12     120\n",
      "9  JJJ        15     150\n",
      "The Standard Deviation for Quantity is: 21.99204401596177\n"
     ]
    }
   ],
   "source": [
    "import numpy as np\n",
    "import pandas as pd\n",
    "import matplotlib.pyplot as plt\n",
    "%matplotlib inline\n",
    "\n",
    "data = [['AAA',10,100],['BBB',12,120],['CCC',50,500],['DDD',10,100],['EEE',80,800],['FFF',15,150], ['GGG',11,110],['HHH',20,200],['III',12,120],['JJJ',15,150]]\n",
    "df = pd.DataFrame(data,columns=['Name','Quantity','Amount'])\n",
    "print(\"Current Data:\\n{}\".format(df))\n",
    "\n",
    "dataset= [df.Quantity]\n",
    "sd= np.std(dataset)\n",
    "print(\"The Standard Deviation for Quantity is: {}\".format(sd))"
   ]
  },
  {
   "cell_type": "code",
   "execution_count": null,
   "metadata": {},
   "outputs": [],
   "source": []
  }
 ],
 "metadata": {
  "kernelspec": {
   "display_name": "Python 3",
   "language": "python",
   "name": "python3"
  },
  "language_info": {
   "codemirror_mode": {
    "name": "ipython",
    "version": 3
   },
   "file_extension": ".py",
   "mimetype": "text/x-python",
   "name": "python",
   "nbconvert_exporter": "python",
   "pygments_lexer": "ipython3",
   "version": "3.8.3"
  }
 },
 "nbformat": 4,
 "nbformat_minor": 4
}
