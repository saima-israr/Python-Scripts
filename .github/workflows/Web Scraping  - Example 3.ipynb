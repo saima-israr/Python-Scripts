{
 "cells": [
  {
   "cell_type": "code",
   "execution_count": 1,
   "metadata": {},
   "outputs": [
    {
     "name": "stdout",
     "output_type": "stream",
     "text": [
      "<a class=\"button next\" href=\"\" title=\"next page\">next &gt; </a>\n",
      "Total Jobs: 120\n"
     ]
    }
   ],
   "source": [
    "from bs4 import BeautifulSoup\n",
    "import requests\n",
    "import pandas as pd\n",
    "\n",
    "npo_jobs = {}\n",
    "job_no = 0\n",
    "\n",
    "while True:\n",
    "    url = \"https://boston.craigslist.org/search/npo\"\n",
    "    response = requests.get(url)\n",
    "    data = response.text\n",
    "    soup = BeautifulSoup(data, 'html.parser')\n",
    "    jobs = soup.find_all('div', {'class':'result-info'})\n",
    "    for job in jobs:\n",
    "        title = job.find('a', {'class':'result-title'}).text\n",
    "        location_tag = job.find('span', {'class':'result-hood'})\n",
    "        location = location_tag.text[2:-1] if location_tag else 'N/A'\n",
    "        date = job.find('time', {'class':'result-date'}).text\n",
    "        link = job.find('a', {'class':'result-title'}).get('href')\n",
    "        job_response = requests.get(link)\n",
    "        job_data = job_response.text\n",
    "        job_soup = BeautifulSoup(job_data, 'html.parser')\n",
    "        job_decription = job_soup.find('section', {'id':'postingbody'}).text\n",
    "        job_attributes_tag = job_soup.find('p', {'class', 'attrgroup'})\n",
    "        job_attributes = job_attributes_tag.text if job_attributes_tag else 'N/A'\n",
    "        job_no+=1\n",
    "        npo_jobs[job_no] = [title, location, date, link, job_decription, job_attributes]\n",
    "        #print('Job Title:', title, '\\nLocation:', location, '\\nDate:', date, '\\nLink:', link, '\\nJob Description:', job_decription, '\\nJob Attributes', job_attributes,  '\\n-----')\n",
    "    nextpageurl_tag = soup.find('a', {'title':'next page'})\n",
    "    if nextpageurl_tag.get('href'):\n",
    "        url = 'https://boston.craigslist.org' + nextpageurl_tag.get('href')\n",
    "        print(url)\n",
    "    else:\n",
    "        break\n",
    "        \n",
    "print('Total Jobs:',job_no)\n",
    "npo_jobs_df = pd.DataFrame.from_dict(npo_jobs, orient = 'index', columns = ['Job Title', 'Location', 'Date', 'Link', 'Job Decription', 'Job Attributes'])\n",
    "npo_jobs_df.head(10)\n",
    "npo_jobs_df.to_csv('npo_jobs.csv')"
   ]
  },
  {
   "cell_type": "code",
   "execution_count": null,
   "metadata": {},
   "outputs": [],
   "source": []
  },
  {
   "cell_type": "code",
   "execution_count": null,
   "metadata": {},
   "outputs": [],
   "source": []
  }
 ],
 "metadata": {
  "kernelspec": {
   "display_name": "Python 3",
   "language": "python",
   "name": "python3"
  },
  "language_info": {
   "codemirror_mode": {
    "name": "ipython",
    "version": 3
   },
   "file_extension": ".py",
   "mimetype": "text/x-python",
   "name": "python",
   "nbconvert_exporter": "python",
   "pygments_lexer": "ipython3",
   "version": "3.8.3"
  }
 },
 "nbformat": 4,
 "nbformat_minor": 4
}
