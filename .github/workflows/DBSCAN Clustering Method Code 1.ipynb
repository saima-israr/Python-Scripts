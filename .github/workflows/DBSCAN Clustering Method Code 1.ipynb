{
 "cells": [
  {
   "cell_type": "code",
   "execution_count": 4,
   "metadata": {},
   "outputs": [
    {
     "name": "stdout",
     "output_type": "stream",
     "text": [
      "   Name  Quantity  Amount\n",
      "0   AAA         9      90\n",
      "1   BBB        10     100\n",
      "2   CCC        11     110\n",
      "3   DDD        12     120\n",
      "4   EEE        13     130\n",
      "5   FFF        20     200\n",
      "6   GGG        21     210\n",
      "7   HHH        22     220\n",
      "8   III        23     230\n",
      "9   JJJ        80     800\n",
      "10  KKK        60     600\n",
      "11  LLL        30     300\n",
      "12  MMM        31     310\n",
      "13  NNN        32     320\n",
      "14  OOO        33     330\n",
      "15  PPP        34     340\n",
      "16  QQQ        44     440\n",
      "17  RRR        45     450\n",
      "18  SSS        46     460\n",
      "19  TTT        47     470\n",
      "Number of Outliers = 2\n",
      "Outliers:\n",
      "    Name  Quantity  Amount\n",
      "9   JJJ        80     800\n",
      "10  KKK        60     600\n"
     ]
    }
   ],
   "source": [
    "#DBSCAN (Density-based spatial clustering of applications with noise)\n",
    "#https://www.geeksforgeeks.org/dbscan-clustering-in-ml-density-based-clustering/  \n",
    "#https://www.youtube.com/watch?v=eq1zKgCFwkk \n",
    "\n",
    "import numpy as np\n",
    "import pandas as pd\n",
    "from sklearn.cluster import DBSCAN\n",
    "from collections import Counter\n",
    "from sklearn.preprocessing import StandardScaler\n",
    "\n",
    "data = [['AAA',9,90],['BBB',10,100],['CCC',11,110],['DDD',12,120],['EEE',13,130],['FFF',20,200], ['GGG',21,210],['HHH',22,220],['III',23,230],['JJJ',80,800],['KKK',60,600],['LLL',30,300],['MMM',31,310],['NNN',32,320],['OOO',33,330],['PPP',34,340], ['QQQ',44,440],['RRR',45,450],['SSS',46,460],['TTT',47,470]]\n",
    "df = pd.DataFrame(data,columns=['Name','Quantity','Amount'])\n",
    "print(df)\n",
    "\n",
    "dbscan_data = df[['Quantity','Amount']]\n",
    "dbscan_data = dbscan_data.values.astype('int64', copy=False)\n",
    "\n",
    "dbscan_data_scaler = StandardScaler().fit(dbscan_data)\n",
    "dbscan_data = dbscan_data_scaler.transform(dbscan_data)\n",
    "\n",
    "model = DBSCAN(eps=1, min_samples=5, metric='euclidean').fit(dbscan_data)\n",
    "outlier_df = df[model.labels_==-1]\n",
    "cluster_df = df[model.labels_!=-1]\n",
    "\n",
    "clusters = Counter(model.labels_)\n",
    "\n",
    "print('Number of Outliers = {}'.format(len(df[model.labels_==-1])))\n",
    "print('Outliers:\\n {}'.format(df[model.labels_==-1].head()))"
   ]
  },
  {
   "cell_type": "code",
   "execution_count": null,
   "metadata": {},
   "outputs": [],
   "source": []
  }
 ],
 "metadata": {
  "kernelspec": {
   "display_name": "Python 3",
   "language": "python",
   "name": "python3"
  },
  "language_info": {
   "codemirror_mode": {
    "name": "ipython",
    "version": 3
   },
   "file_extension": ".py",
   "mimetype": "text/x-python",
   "name": "python",
   "nbconvert_exporter": "python",
   "pygments_lexer": "ipython3",
   "version": "3.8.3"
  }
 },
 "nbformat": 4,
 "nbformat_minor": 4
}
