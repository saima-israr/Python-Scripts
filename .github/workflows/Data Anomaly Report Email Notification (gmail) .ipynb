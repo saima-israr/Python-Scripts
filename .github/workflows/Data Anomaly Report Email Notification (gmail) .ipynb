{
 "cells": [
  {
   "cell_type": "code",
   "execution_count": 4,
   "metadata": {},
   "outputs": [
    {
     "name": "stdout",
     "output_type": "stream",
     "text": [
      "Type your password and press enter:strong@arms123\n",
      "Email Sent Successfully!\n"
     ]
    },
    {
     "data": {
      "image/png": "[encoded data removed]",
      "text/plain": [
       "<Figure size 432x288 with 1 Axes>"
      ]
     },
     "metadata": {
      "needs_background": "light"
     },
     "output_type": "display_data"
    }
   ],
   "source": [
    "import numpy as np\n",
    "import pandas as pd\n",
    "from sklearn.cluster import DBSCAN\n",
    "from sklearn.preprocessing import StandardScaler\n",
    "import smtplib, ssl\n",
    "from email.mime.text import MIMEText\n",
    "from email.mime.image import MIMEImage\n",
    "from email.mime.multipart import MIMEMultipart\n",
    "import matplotlib.pyplot as plt\n",
    "from pylab import rcParams\n",
    "rcParams['figure.figsize'] = 20,20\n",
    "%matplotlib inline\n",
    "\n",
    "sender_email = \"danarms.2421@gmail.com\"\n",
    "receiver_emails = [\"danarms.2421@gmail.com\", \"falbar.2421@gmail.com\"]\n",
    "password = input(\"Type your password and press enter:\")\n",
    "\n",
    "message = MIMEMultipart(\"alternative\")\n",
    "message[\"Subject\"] = \"Data Anomaly Report\"\n",
    "message[\"From\"] = sender_email\n",
    "message[\"To\"] = \", \".join(receiver_emails)\n",
    "\n",
    "data = [['AAA',9,90],['BBB',10,100],['CCC',11,110],['DDD',12,120],['EEE',13,130],['FFF',20,200], ['GGG',21,210],['HHH',22,220],['III',23,230],['JJJ',80,800],['KKK',60,600],['LLL',30,300],['MMM',31,310],['NNN',32,320],['OOO',33,330],['PPP',34,340], ['QQQ',44,440],['RRR',45,450],['SSS',46,460],['TTT',47,470]]\n",
    "df = pd.DataFrame(data,columns=['Name','Quantity','Amount'])\n",
    "dfhtml1 = df.to_html(index = False)\n",
    "\n",
    "dbscan_data = df[['Quantity','Amount']]\n",
    "dbscan_data = dbscan_data.values.astype('int64', copy=False)\n",
    "dbscan_data_scaler = StandardScaler().fit(dbscan_data)\n",
    "dbscan_data = dbscan_data_scaler.transform(dbscan_data)\n",
    "model = DBSCAN(eps=1, min_samples=5, metric='euclidean').fit(dbscan_data)\n",
    "outlier_df = df[model.labels_==-1]\n",
    "cluster_df = df[model.labels_!=-1]\n",
    "\n",
    "variance_data = pd.DataFrame(outlier_df,columns=['Name','Quantity','Amount'])\n",
    "dfhtml2 = variance_data.to_html(index = False)\n",
    "\n",
    "colors_clusters = 'black'\n",
    "colors_outlier = 'red'\n",
    "\n",
    "fig = plt.figure()\n",
    "ax = fig.add_subplot()\n",
    "ax.scatter(cluster_df['Quantity'], cluster_df['Amount'], c=colors_clusters, edgecolors='black', s=50)\n",
    "ax.scatter(outlier_df['Quantity'], outlier_df['Amount'], c=colors_outlier, edgecolors='black', s=50)\n",
    "ax.set_xlabel('Quantity', family='Arial', fontsize=9)\n",
    "ax.set_ylabel('Amount', family='Arial', fontsize=9)\n",
    "plt.title('Customer Data', family='Arial', fontsize=12)\n",
    "plt.grid(which='major',color='#cccccc')\n",
    "plt.savefig('variance_chart.png', dpi=100)\n",
    "attachment = 'variance_chart.png'\n",
    "\n",
    "fp = open(attachment, 'rb')\n",
    "img = MIMEImage(fp.read())\n",
    "fp.close()\n",
    "img.add_header('Content-ID', '<{}>'.format(attachment))\n",
    "\n",
    "html = \"\"\"\\\n",
    "    <html>\n",
    "      <head><style>\n",
    "      table, th, td {{ border: 1px solid black; border-collapse: collapse; }}\n",
    "      th, td {{ padding: 5px; }}\n",
    "    </style></head>\n",
    "      <body>\n",
    "        <p>Hi!\n",
    "            <br>Hope your are doing well</p>\n",
    "        <p><br><b>\n",
    "           Sales Data:<br>\n",
    "           {0}\n",
    "        <br><b>Variance Report:<br>\n",
    "           {1}\n",
    "        <br><b>Number of Outliers Found using DBSCAN CLUSTERING: {2}\n",
    "        </p>\n",
    "        <p><br>\n",
    "         <p><img src=\"cid:variance_chart.png\" alt=\"Variance Chart\"></p>\n",
    "        </p>\n",
    "      </body>\n",
    "    </html>\"\"\".format(df.to_html(), variance_data.to_html(), len(df[model.labels_==-1]))\n",
    "\n",
    "\n",
    "msg = MIMEText(html, \"html\")\n",
    "message.attach(msg)\n",
    "message.attach(img)\n",
    "context = ssl.create_default_context()\n",
    "\n",
    "try:\n",
    "    with smtplib.SMTP_SSL(\"smtp.gmail.com\", 465, context=context) as server:\n",
    "        server.login(sender_email, password)\n",
    "        server.sendmail(sender_email, receiver_emails, message.as_string())\n",
    "        print (\"Email Sent Successfully!\")\n",
    "except SMTPException:\n",
    "    print (\"Error: Unable to Send Email.\")"
   ]
  },
  {
   "cell_type": "code",
   "execution_count": null,
   "metadata": {},
   "outputs": [],
   "source": []
  }
 ],
 "metadata": {
  "kernelspec": {
   "display_name": "Python 3",
   "language": "python",
   "name": "python3"
  },
  "language_info": {
   "codemirror_mode": {
    "name": "ipython",
    "version": 3
   },
   "file_extension": ".py",
   "mimetype": "text/x-python",
   "name": "python",
   "nbconvert_exporter": "python",
   "pygments_lexer": "ipython3",
   "version": "3.8.3"
  }
 },
 "nbformat": 4,
 "nbformat_minor": 4
}
