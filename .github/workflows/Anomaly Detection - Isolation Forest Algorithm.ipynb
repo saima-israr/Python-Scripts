{
 "cells": [
  {
   "cell_type": "code",
   "execution_count": 2,
   "metadata": {},
   "outputs": [
    {
     "name": "stdout",
     "output_type": "stream",
     "text": [
      "   Customer Name  Quantity  Amount    Scores  Anomaly\n",
      "3            DDD         6     600 -0.028960       -1\n",
      "4            EEE       100   10000 -0.206203       -1\n",
      "12           MMM         5     500 -0.058295       -1\n",
      "15           PPP        80    8000 -0.165028       -1\n",
      "Accuracy percentage: 400.0\n"
     ]
    },
    {
     "name": "stderr",
     "output_type": "stream",
     "text": [
      "C:\\Users\\saima\\anaconda3\\lib\\site-packages\\sklearn\\ensemble\\_iforest.py:252: FutureWarning: 'behaviour' is deprecated in 0.22 and will be removed in 0.24. You should not pass or set this parameter.\n",
      "  warn(\n"
     ]
    }
   ],
   "source": [
    "#https://blog.paperspace.com/anomaly-detection-isolation-forest/ \n",
    "\n",
    "import numpy as np\n",
    "import pandas as pd\n",
    "import seaborn as sns\n",
    "import matplotlib.pyplot as plt\n",
    "from sklearn.ensemble import IsolationForest\n",
    "\n",
    "df = pd.read_csv(r'C:\\Users\\saima\\OneDrive\\Desktop\\Customerdata.csv')\n",
    "df.head(20)\n",
    "\n",
    "model=IsolationForest(n_estimators=20, max_samples='auto', contamination=float(0.2),max_features=1.0, behaviour='new')\n",
    "model.fit(df[['Quantity']])\n",
    "\n",
    "df['Scores']=model.decision_function(df[['Quantity']])\n",
    "df['Anomaly']=model.predict(df[['Quantity']])\n",
    "\n",
    "anomaly=df.loc[df['Anomaly']==-1]\n",
    "anomaly_index=list(anomaly.index)\n",
    "print(anomaly)\n",
    "\n",
    "outliers_counter = len([df['Quantity'] > 999999])\n",
    "outliers_counter\n",
    "\n",
    "print(\"Accuracy percentage:\", 100*list(df['Anomaly']).count(-1)/(outliers_counter))"
   ]
  },
  {
   "cell_type": "code",
   "execution_count": null,
   "metadata": {},
   "outputs": [],
   "source": []
  }
 ],
 "metadata": {
  "kernelspec": {
   "display_name": "Python 3",
   "language": "python",
   "name": "python3"
  },
  "language_info": {
   "codemirror_mode": {
    "name": "ipython",
    "version": 3
   },
   "file_extension": ".py",
   "mimetype": "text/x-python",
   "name": "python",
   "nbconvert_exporter": "python",
   "pygments_lexer": "ipython3",
   "version": "3.8.3"
  }
 },
 "nbformat": 4,
 "nbformat_minor": 4
}
