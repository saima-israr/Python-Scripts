{
 "cells": [
  {
   "cell_type": "code",
   "execution_count": null,
   "metadata": {},
   "outputs": [],
   "source": [
    "import numpy as np\n",
    "import pandas as pd\n",
    "import matplotlib.pyplot as plt\n",
    "%matplotlib inline\n",
    "import smtplib, ssl\n",
    "import win32com.client as win32\n",
    "from email import encoders\n",
    "import os\n",
    "import random\n",
    "from datetime import *\n",
    "\n",
    "data = [['Sale1','Asia', '1/1/2020'], ['Sale2','Africa', '1/7/2020'], ['Sale1','Asia', '2/14/2020'], ['Sale2','Africa', '2/14/2020'], ['Sale3','Europe', '3/14/2020'], ['Sale4','America', '3/21/2020'], ['Sale5','Oceania', '4/21/2020'], ['Sale5','Oceania', '4/28/2020']]\n",
    "df = pd.DataFrame(data,columns=['SalesType','Region','Date'])\n",
    "\n",
    "scatter_x = np.array(df['SalesType'])\n",
    "scatter_y = np.array(pd.to_datetime(df['Date']))\n",
    "group = np.array(df['Region'])\n",
    "\n",
    "fig, ax = plt.subplots()  \n",
    "for g in np.unique(group):\n",
    "    ix = np.where(group == g)\n",
    "    rgb = np.random.seed(3)\n",
    "    ax.scatter(scatter_x[ix], scatter_y[ix], c = rgb, label = g, s = 100)\n",
    "\n",
    "ax.set_xlabel('SalesType', family='Arial', fontsize=9)\n",
    "ax.set_ylabel('Date', family='Arial', fontsize=9)\n",
    "ax.legend(loc='center left', bbox_to_anchor=(1, 0.5))\n",
    "plt.title('Customer Data', family='Arial', fontsize=12)\n",
    "my_path = os.path.dirname(os.path.abspath(\"__file__\"))\n",
    "plt.savefig(os.path.join(my_path, 'sales_report.png'), dpi = 100)\n",
    "my_file = my_path + '\\\\sales_report.png'\n",
    "   \n",
    "outlook = win32.Dispatch('outlook.application')\n",
    "mail = outlook.CreateItem(0)\n",
    "mail.To = 'danarms.2421@outlook.com'\n",
    "mail.Subject = 'Sales Report'\n",
    "mail.Body = 'Here is the current sales report.'\n",
    "mail.Attachments.Add(my_file)\n",
    "attachment = mail.Attachments.Add(my_file)\n",
    "attachment.PropertyAccessor.SetProperty(\"http://schemas.microsoft.com/mapi/proptag/0x3712001F\", \"MyId1\")\n",
    "mail.HTMLBody =\"\"\"\\\n",
    "                    <html>\n",
    "                        <body>\n",
    "                            <img alt=\"Variance Chart\" src= \"cid:MyId1\"><br>   \n",
    "                         </body>\n",
    "                    </html>\n",
    "                    \"\"\"\n",
    "try:\n",
    "    mail.send()\n",
    "    status = \"Email Sent Successfully!\"\n",
    "except SMTPException:\n",
    "    status = (\"Error: Unable to Send Email.\")      \n",
    "return status  \n",
    "\n",
    "email_status = variance_report(df, receiver_emails)\n",
    "print(email_status)"
   ]
  },
  {
   "cell_type": "code",
   "execution_count": null,
   "metadata": {},
   "outputs": [],
   "source": []
  }
 ],
 "metadata": {
  "kernelspec": {
   "display_name": "Python 3",
   "language": "python",
   "name": "python3"
  },
  "language_info": {
   "codemirror_mode": {
    "name": "ipython",
    "version": 3
   },
   "file_extension": ".py",
   "mimetype": "text/x-python",
   "name": "python",
   "nbconvert_exporter": "python",
   "pygments_lexer": "ipython3",
   "version": "3.8.3"
  }
 },
 "nbformat": 4,
 "nbformat_minor": 4
}
